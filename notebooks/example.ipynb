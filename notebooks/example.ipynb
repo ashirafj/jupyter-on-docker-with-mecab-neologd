{
 "cells": [
  {
   "cell_type": "code",
   "execution_count": 1,
   "id": "e64f0847-c6cc-4982-a2e8-a035e3efc193",
   "metadata": {},
   "outputs": [],
   "source": [
    "import os\n",
    "import MeCab"
   ]
  },
  {
   "cell_type": "code",
   "execution_count": 2,
   "id": "22101c24-f478-4d47-8e66-20fd15c55a05",
   "metadata": {},
   "outputs": [
    {
     "name": "stdout",
     "output_type": "stream",
     "text": [
      "neologd found\n"
     ]
    }
   ],
   "source": [
    "dicpath = \"/usr/lib/x86_64-linux-gnu/mecab/dic/mecab-ipadic-neologd\"\n",
    "if os.path.exists(dicpath):\n",
    "    print(\"neologd found\")\n",
    "    neologd_tagger = MeCab.Tagger(f\"-d {dicpath} -Ochasen\")\n",
    "else:\n",
    "    print(\"neologd not found\")\n",
    "default_tagger = MeCab.Tagger()"
   ]
  },
  {
   "cell_type": "code",
   "execution_count": 3,
   "id": "1b1bc78b-9c4c-49de-992b-e5aaf01bd301",
   "metadata": {},
   "outputs": [],
   "source": [
    "def tokenize(tagger, text):\n",
    "    tokens = tagger.parse(text).splitlines()\n",
    "    for token in tokens:\n",
    "        forms = token.split(\"\\t\")\n",
    "        if token == \"EOS\":\n",
    "            break\n",
    "        print(forms)"
   ]
  },
  {
   "cell_type": "markdown",
   "id": "5463f47f-fd8d-45c7-93f5-bc632a30593e",
   "metadata": {},
   "source": [
    "例：ご注文はうさぎですか？"
   ]
  },
  {
   "cell_type": "code",
   "execution_count": 4,
   "id": "175e8eb1-a4a2-46df-8a77-0fed54516f15",
   "metadata": {},
   "outputs": [
    {
     "name": "stdout",
     "output_type": "stream",
     "text": [
      "['ご', 'ゴ', 'ゴ', '御', '接頭辞', '', '', '']\n",
      "['注文', 'チューモン', 'チュウモン', '注文', '名詞-普通名詞-サ変可能', '', '', '0']\n",
      "['は', 'ワ', 'ハ', 'は', '助詞-係助詞', '', '', '']\n",
      "['うさぎ', 'ウサギ', 'ウサギ', '兎', '名詞-普通名詞-一般', '', '', '0']\n",
      "['です', 'デス', 'デス', 'です', '助動詞', '助動詞-デス', '終止形-一般', '']\n",
      "['か', 'カ', 'カ', 'か', '助詞-終助詞', '', '', '']\n",
      "['？', '', '', '？', '補助記号-句点', '', '', '']\n"
     ]
    }
   ],
   "source": [
    "tokenize(default_tagger,\n",
    "         \"ご注文はうさぎですか？\")"
   ]
  },
  {
   "cell_type": "code",
   "execution_count": 5,
   "id": "20f34455-adf7-41aa-9d7a-ee2445fb4285",
   "metadata": {},
   "outputs": [
    {
     "name": "stdout",
     "output_type": "stream",
     "text": [
      "['ご注文はうさぎですか？', 'ゴチュウモンハウサギデスカ', 'ご注文はうさぎですか?', '名詞-固有名詞-一般', '', '']\n"
     ]
    }
   ],
   "source": [
    "tokenize(neologd_tagger,\n",
    "         \"ご注文はうさぎですか？\")"
   ]
  },
  {
   "cell_type": "markdown",
   "id": "48b2b59c-9bc1-4123-aa25-f81c033f2d37",
   "metadata": {},
   "source": [
    "例：あぶない刑事"
   ]
  },
  {
   "cell_type": "code",
   "execution_count": 6,
   "id": "5777c8a7-d020-4f40-ad71-47e896b0f810",
   "metadata": {},
   "outputs": [
    {
     "name": "stdout",
     "output_type": "stream",
     "text": [
      "['あぶない', 'アブナイ', 'アブナイ', '危ない', '形容詞-一般', '形容詞', '連体形-一般', '0,3']\n",
      "['刑事', 'ケージ', 'ケイジ', '刑事', '名詞-普通名詞-一般', '', '', '1']\n"
     ]
    }
   ],
   "source": [
    "tokenize(default_tagger,\n",
    "         \"あぶない刑事\")"
   ]
  },
  {
   "cell_type": "code",
   "execution_count": 7,
   "id": "c04b1219-895b-4487-871b-94df1624f78c",
   "metadata": {},
   "outputs": [
    {
     "name": "stdout",
     "output_type": "stream",
     "text": [
      "['あぶない刑事', 'アブナイデカ', 'あぶない刑事', '名詞-固有名詞-一般', '', '']\n"
     ]
    }
   ],
   "source": [
    "tokenize(neologd_tagger,\n",
    "         \"あぶない刑事\")"
   ]
  },
  {
   "cell_type": "markdown",
   "id": "088951e9-abb5-4f55-bfe3-4c4712ab945b",
   "metadata": {},
   "source": [
    "例：すもももももももものうち"
   ]
  },
  {
   "cell_type": "code",
   "execution_count": 8,
   "id": "3ca58fb7-04ab-4a0c-8739-9b972dff3c0d",
   "metadata": {},
   "outputs": [
    {
     "name": "stdout",
     "output_type": "stream",
     "text": [
      "['すもも', 'スモモ', 'スモモ', '李', '名詞-普通名詞-一般', '', '', '0']\n",
      "['も', 'モ', 'モ', 'も', '助詞-係助詞', '', '', '']\n",
      "['もも', 'モモ', 'モモ', '桃', '名詞-普通名詞-一般', '', '', '0']\n",
      "['も', 'モ', 'モ', 'も', '助詞-係助詞', '', '', '']\n",
      "['もも', 'モモ', 'モモ', '桃', '名詞-普通名詞-一般', '', '', '0']\n",
      "['の', 'ノ', 'ノ', 'の', '助詞-格助詞', '', '', '']\n",
      "['うち', 'ウチ', 'ウチ', '内', '名詞-普通名詞-副詞可能', '', '', '0']\n"
     ]
    }
   ],
   "source": [
    "tokenize(default_tagger,\n",
    "         \"すもももももももものうち\")"
   ]
  },
  {
   "cell_type": "code",
   "execution_count": 9,
   "id": "b8d66a66-3a34-4140-be8e-ee91e213fcfe",
   "metadata": {},
   "outputs": [
    {
     "name": "stdout",
     "output_type": "stream",
     "text": [
      "['すもももももももものうち', 'スモモモモモモモモノウチ', 'すもももももももものうち', '名詞-固有名詞-一般', '', '']\n"
     ]
    }
   ],
   "source": [
    "tokenize(neologd_tagger,\n",
    "         \"すもももももももものうち\")"
   ]
  }
 ],
 "metadata": {
  "kernelspec": {
   "display_name": "Python 3 (ipykernel)",
   "language": "python",
   "name": "python3"
  },
  "language_info": {
   "codemirror_mode": {
    "name": "ipython",
    "version": 3
   },
   "file_extension": ".py",
   "mimetype": "text/x-python",
   "name": "python",
   "nbconvert_exporter": "python",
   "pygments_lexer": "ipython3",
   "version": "3.9.7"
  }
 },
 "nbformat": 4,
 "nbformat_minor": 5
}
